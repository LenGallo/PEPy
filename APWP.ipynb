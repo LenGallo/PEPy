{
 "cells": [
  {
   "cell_type": "markdown",
   "id": "0749756a",
   "metadata": {},
   "source": [
    "## ***Jupyter Notebook to accompany the paper:***\n",
    "    \n",
    "# ***A data-driven framework for Paleomagnetic Euler Pole analysis - Least squares optimization for small circle fitting - or - or***\n",
    "\n",
    "### ***by L. C. Gallo$^1$*** *(l.c.gallo@geo.uio.no)* ***F. Sapienza$^2$ and M. Domeier$^1$***\n",
    "\n",
    "*$^1$Centre for Earth Evolution and Dynamics, University of Oslo, Norway.*\n",
    "\n",
    "*$^2$Department of Statistics, University of California Berkeley, United States.*\n",
    "\n",
    "**VERSION 1.0 (3 October 2021)**"
   ]
  },
  {
   "cell_type": "code",
   "execution_count": 1,
   "id": "e1a81137",
   "metadata": {},
   "outputs": [],
   "source": [
    "import numpy as np\n",
    "import pandas as pd\n",
    "import seaborn as sns\n",
    "#import cartopy.crs as ccrs\n",
    "import matplotlib.pyplot as plt\n",
    "\n",
    "from scipy.spatial.transform import Rotation as rotation\n",
    "from scipy.optimize import minimize\n",
    "from scipy.sparse.csgraph import shortest_path, dijkstra\n",
    "\n",
    "from auxiliar.utils import cartesian2spherical, spherical2cartesian, GCD_cartesian, StageEP\n",
    "\n",
    "np.random.seed(1) #seed for reproducibility"
   ]
  },
  {
   "cell_type": "markdown",
   "id": "0eb26b88",
   "metadata": {},
   "source": [
    "### REMEMBER TO RESTART THE KERNEL"
   ]
  },
  {
   "cell_type": "markdown",
   "id": "5c8a65db",
   "metadata": {},
   "source": [
    "We start by generating stochastic models of the drift of a plate by randomly generating stage Euler vectors -represented in the matrix form as $R(q,\\omega)$- which remain constant during a temporal stage of duration $t$. The geographic coordinates of the Euler pole $(\\phi_{q},\\theta_{q})$ during each stage are randomly selected on the unit sphere. Angular velocities $\\omega$ are chosen from a uniform distribution and constrained to between 0.1$^{\\circ}$/Myr and 2.5$^{\\circ}$/Myr, which yields plate velocities up to ~28 cm/yr."
   ]
  },
  {
   "cell_type": "markdown",
   "id": "9579a729",
   "metadata": {},
   "source": [
    "#### Set up of the parameters for the simulation of an APWP:"
   ]
  },
  {
   "cell_type": "code",
   "execution_count": 2,
   "id": "eeae6a28",
   "metadata": {},
   "outputs": [],
   "source": [
    "N = 200                       #number of paleomagnetic poles\n",
    "\n",
    "t_min = 15                    # minimum stage duration\n",
    "t_max = 25                    # maximum stage duration\n",
    "\n",
    "omega_min = np.radians(0.6)   # Minimum angular velocity\n",
    "omega_max = np.radians(2.5)   # Maximum angular velocity"
   ]
  },
  {
   "cell_type": "markdown",
   "id": "f28f8429",
   "metadata": {},
   "source": [
    "Populates the APWP:"
   ]
  },
  {
   "cell_type": "code",
   "execution_count": 3,
   "id": "9d114450",
   "metadata": {},
   "outputs": [],
   "source": [
    "APWP = [] # list for storing the sequential PPs (cartesian coordinates) \n",
    "\n",
    "pp = spherical2cartesian([np.radians(-90), 0]) #setting the geographic pole as the first paleomagnetic pole\n",
    "\n",
    "#APWP.append(np.array(geographic_pole))\n",
    "age, changepoints, omegas, EPs = [], [], [], []\n",
    "\n",
    "i = 0\n",
    "\n",
    "sigma = np.radians(0.05)# 0.003 # low noise intensity\n",
    "#sigma_noise = 0.005\n",
    "\n",
    "while i < N:\n",
    "    \n",
    "    changepoint = i + np.random.randint(t_min, t_max + 1)\n",
    "    changepoint_tmp = True\n",
    "    \n",
    "    #set new angular velocity\n",
    "    w = np.random.uniform(omega_min, omega_max)\n",
    "    \n",
    "    #set random euler pole\n",
    "    rand_i, rand_j = np.random.rand(2)           # Two independent random numbers from a uniform distribution in the range (0, 1)\n",
    "    [lat,long] = [2 * np.pi * rand_i, np.arcsin(rand_j * 2 - 1)]         # Spherical coordinate theta\n",
    "    ep = spherical2cartesian([lat, long])\n",
    "     \n",
    "    #rotation matrix defined defined by parameters ep coordinates and omega\n",
    "    r = rotation.from_rotvec(w * np.array(ep))\n",
    "    \n",
    "    while i < changepoint and i < N:        \n",
    "        \n",
    "        pp = r.apply(np.array(pp))  \n",
    "    \n",
    "        # Add noise to the PP\n",
    "        \n",
    "        pp = cartesian2spherical(pp)\n",
    "        pp += np.random.normal(0, sigma, 2)\n",
    "        pp = spherical2cartesian(pp)\n",
    "        \n",
    "#         pp += np.random.normal(0, sigma_noise, 3) \n",
    "#         pp /= np.linalg.norm(pp)\n",
    "        \n",
    "        age.append(i)\n",
    "        EPs.append(ep)\n",
    "        APWP.append(pp)\n",
    "        omegas.append(w)\n",
    "        changepoints.append(changepoint_tmp)\n",
    "        changepoint_tmp = False\n",
    "        \n",
    "        i += 1"
   ]
  },
  {
   "cell_type": "markdown",
   "id": "8d73b40e",
   "metadata": {},
   "source": [
    "Generate and store in Pandas DataFrame for visualization purposes:"
   ]
  },
  {
   "cell_type": "code",
   "execution_count": 4,
   "id": "f4fbda4c",
   "metadata": {},
   "outputs": [
    {
     "data": {
      "text/html": [
       "<div>\n",
       "<style scoped>\n",
       "    .dataframe tbody tr th:only-of-type {\n",
       "        vertical-align: middle;\n",
       "    }\n",
       "\n",
       "    .dataframe tbody tr th {\n",
       "        vertical-align: top;\n",
       "    }\n",
       "\n",
       "    .dataframe thead th {\n",
       "        text-align: right;\n",
       "    }\n",
       "</style>\n",
       "<table border=\"1\" class=\"dataframe\">\n",
       "  <thead>\n",
       "    <tr style=\"text-align: right;\">\n",
       "      <th></th>\n",
       "      <th>i</th>\n",
       "      <th>PP_x</th>\n",
       "      <th>PP_y</th>\n",
       "      <th>PP_z</th>\n",
       "      <th>changepoint</th>\n",
       "      <th>EP_x</th>\n",
       "      <th>EP_y</th>\n",
       "      <th>EP_z</th>\n",
       "      <th>omega</th>\n",
       "    </tr>\n",
       "  </thead>\n",
       "  <tbody>\n",
       "    <tr>\n",
       "      <th>0</th>\n",
       "      <td>0</td>\n",
       "      <td>0.028732</td>\n",
       "      <td>0.025296</td>\n",
       "      <td>-0.999267</td>\n",
       "      <td>True</td>\n",
       "      <td>0.609333</td>\n",
       "      <td>-0.677967</td>\n",
       "      <td>-0.411186</td>\n",
       "      <td>0.043540</td>\n",
       "    </tr>\n",
       "    <tr>\n",
       "      <th>20</th>\n",
       "      <td>20</td>\n",
       "      <td>0.599496</td>\n",
       "      <td>0.375945</td>\n",
       "      <td>-0.706591</td>\n",
       "      <td>True</td>\n",
       "      <td>-0.097513</td>\n",
       "      <td>0.001644</td>\n",
       "      <td>0.995233</td>\n",
       "      <td>0.017490</td>\n",
       "    </tr>\n",
       "    <tr>\n",
       "      <th>41</th>\n",
       "      <td>41</td>\n",
       "      <td>0.452617</td>\n",
       "      <td>0.527300</td>\n",
       "      <td>-0.719091</td>\n",
       "      <td>True</td>\n",
       "      <td>0.091365</td>\n",
       "      <td>-0.005971</td>\n",
       "      <td>-0.995800</td>\n",
       "      <td>0.026079</td>\n",
       "    </tr>\n",
       "    <tr>\n",
       "      <th>57</th>\n",
       "      <td>57</td>\n",
       "      <td>0.614643</td>\n",
       "      <td>0.345622</td>\n",
       "      <td>-0.709055</td>\n",
       "      <td>True</td>\n",
       "      <td>0.714524</td>\n",
       "      <td>0.487911</td>\n",
       "      <td>-0.501397</td>\n",
       "      <td>0.041550</td>\n",
       "    </tr>\n",
       "    <tr>\n",
       "      <th>82</th>\n",
       "      <td>82</td>\n",
       "      <td>0.494232</td>\n",
       "      <td>0.582117</td>\n",
       "      <td>-0.645658</td>\n",
       "      <td>True</td>\n",
       "      <td>0.660896</td>\n",
       "      <td>0.007485</td>\n",
       "      <td>0.750440</td>\n",
       "      <td>0.014661</td>\n",
       "    </tr>\n",
       "    <tr>\n",
       "      <th>104</th>\n",
       "      <td>104</td>\n",
       "      <td>0.330947</td>\n",
       "      <td>0.811354</td>\n",
       "      <td>-0.481849</td>\n",
       "      <td>True</td>\n",
       "      <td>0.987436</td>\n",
       "      <td>0.062666</td>\n",
       "      <td>0.145060</td>\n",
       "      <td>0.018438</td>\n",
       "    </tr>\n",
       "    <tr>\n",
       "      <th>121</th>\n",
       "      <td>121</td>\n",
       "      <td>0.302343</td>\n",
       "      <td>0.920533</td>\n",
       "      <td>-0.247402</td>\n",
       "      <td>True</td>\n",
       "      <td>-0.628876</td>\n",
       "      <td>0.395808</td>\n",
       "      <td>-0.669217</td>\n",
       "      <td>0.024262</td>\n",
       "    </tr>\n",
       "    <tr>\n",
       "      <th>140</th>\n",
       "      <td>140</td>\n",
       "      <td>0.467243</td>\n",
       "      <td>0.692157</td>\n",
       "      <td>-0.550094</td>\n",
       "      <td>True</td>\n",
       "      <td>-0.890780</td>\n",
       "      <td>0.446754</td>\n",
       "      <td>0.083202</td>\n",
       "      <td>0.019422</td>\n",
       "    </tr>\n",
       "    <tr>\n",
       "      <th>158</th>\n",
       "      <td>158</td>\n",
       "      <td>0.358727</td>\n",
       "      <td>0.489982</td>\n",
       "      <td>-0.794501</td>\n",
       "      <td>True</td>\n",
       "      <td>-0.784631</td>\n",
       "      <td>-0.598256</td>\n",
       "      <td>0.162613</td>\n",
       "      <td>0.026325</td>\n",
       "    </tr>\n",
       "    <tr>\n",
       "      <th>182</th>\n",
       "      <td>182</td>\n",
       "      <td>0.611814</td>\n",
       "      <td>0.189604</td>\n",
       "      <td>-0.767941</td>\n",
       "      <td>True</td>\n",
       "      <td>0.495520</td>\n",
       "      <td>-0.060498</td>\n",
       "      <td>0.866487</td>\n",
       "      <td>0.042079</td>\n",
       "    </tr>\n",
       "  </tbody>\n",
       "</table>\n",
       "</div>"
      ],
      "text/plain": [
       "       i      PP_x      PP_y      PP_z  changepoint      EP_x      EP_y  \\\n",
       "0      0  0.028732  0.025296 -0.999267         True  0.609333 -0.677967   \n",
       "20    20  0.599496  0.375945 -0.706591         True -0.097513  0.001644   \n",
       "41    41  0.452617  0.527300 -0.719091         True  0.091365 -0.005971   \n",
       "57    57  0.614643  0.345622 -0.709055         True  0.714524  0.487911   \n",
       "82    82  0.494232  0.582117 -0.645658         True  0.660896  0.007485   \n",
       "104  104  0.330947  0.811354 -0.481849         True  0.987436  0.062666   \n",
       "121  121  0.302343  0.920533 -0.247402         True -0.628876  0.395808   \n",
       "140  140  0.467243  0.692157 -0.550094         True -0.890780  0.446754   \n",
       "158  158  0.358727  0.489982 -0.794501         True -0.784631 -0.598256   \n",
       "182  182  0.611814  0.189604 -0.767941         True  0.495520 -0.060498   \n",
       "\n",
       "         EP_z     omega  \n",
       "0   -0.411186  0.043540  \n",
       "20   0.995233  0.017490  \n",
       "41  -0.995800  0.026079  \n",
       "57  -0.501397  0.041550  \n",
       "82   0.750440  0.014661  \n",
       "104  0.145060  0.018438  \n",
       "121 -0.669217  0.024262  \n",
       "140  0.083202  0.019422  \n",
       "158  0.162613  0.026325  \n",
       "182  0.866487  0.042079  "
      ]
     },
     "execution_count": 4,
     "metadata": {},
     "output_type": "execute_result"
    }
   ],
   "source": [
    "dictionary = {'i' : age,\n",
    "              'PP_x': [i[0] for i in APWP],\n",
    "              'PP_y': [i[1] for i in APWP],\n",
    "              'PP_z': [i[2] for i in APWP],\n",
    "              'changepoint': changepoints, \n",
    "              'EP_x': [i[0] for i in EPs],\n",
    "              'EP_y': [i[1] for i in EPs],\n",
    "              'EP_z': [i[2] for i in EPs],\n",
    "              'omega': omegas}\n",
    "\n",
    "apwp_df = pd.DataFrame(dictionary)\n",
    "\n",
    "apwp_df[apwp_df['changepoint'] == True]"
   ]
  },
  {
   "cell_type": "markdown",
   "id": "65f804ac",
   "metadata": {},
   "source": [
    "#### Visualization of the synhetic EPs and associated APWP"
   ]
  },
  {
   "cell_type": "code",
   "execution_count": 5,
   "id": "e6bdd673",
   "metadata": {},
   "outputs": [],
   "source": [
    "list_apwp = apwp_df[['PP_x','PP_y','PP_z']].values.tolist()\n",
    "APWP_LatLong = np.array([cartesian2spherical(i) for i in list_apwp]) # Convert to sphercial coordinates\n",
    "\n",
    "list_eps = apwp_df[['EP_x','EP_y','EP_z']].values.tolist()\n",
    "EPs_lowerH = [np.array(i) if i[2] < 0 else -np.array(i) for i in list_eps] #converts to lower hemisphere for visualization purpose only\n",
    "EPs_LatLong = np.array([cartesian2spherical(i) for i in EPs_lowerH])\n",
    "\n",
    "change_points_df = apwp_df[apwp_df['changepoint'] == True]\n",
    "list_changepoints = change_points_df[['PP_x','PP_y','PP_z']].values.tolist()\n",
    "changepoints_latlong = np.array([cartesian2spherical(i) for i in list_changepoints])"
   ]
  },
  {
   "cell_type": "code",
   "execution_count": 9,
   "id": "1e89a703",
   "metadata": {},
   "outputs": [
    {
     "ename": "NameError",
     "evalue": "name 'ccrs' is not defined",
     "output_type": "error",
     "traceback": [
      "\u001b[0;31m---------------------------------------------------------------------------\u001b[0m",
      "\u001b[0;31mNameError\u001b[0m                                 Traceback (most recent call last)",
      "\u001b[0;32m<ipython-input-9-3c347d80c9e8>\u001b[0m in \u001b[0;36m<module>\u001b[0;34m\u001b[0m\n\u001b[1;32m      1\u001b[0m \u001b[0mfig\u001b[0m \u001b[0;34m=\u001b[0m \u001b[0mplt\u001b[0m\u001b[0;34m.\u001b[0m\u001b[0mfigure\u001b[0m\u001b[0;34m(\u001b[0m\u001b[0mfigsize\u001b[0m\u001b[0;34m=\u001b[0m\u001b[0;34m(\u001b[0m\u001b[0;36m10\u001b[0m\u001b[0;34m,\u001b[0m\u001b[0;36m10\u001b[0m\u001b[0;34m)\u001b[0m\u001b[0;34m)\u001b[0m\u001b[0;34m\u001b[0m\u001b[0;34m\u001b[0m\u001b[0m\n\u001b[1;32m      2\u001b[0m \u001b[0;34m\u001b[0m\u001b[0m\n\u001b[0;32m----> 3\u001b[0;31m \u001b[0mproj\u001b[0m \u001b[0;34m=\u001b[0m \u001b[0mccrs\u001b[0m\u001b[0;34m.\u001b[0m\u001b[0mOrthographic\u001b[0m\u001b[0;34m(\u001b[0m\u001b[0;34m-\u001b[0m\u001b[0;36m30\u001b[0m\u001b[0;34m,\u001b[0m \u001b[0;34m-\u001b[0m\u001b[0;36m60\u001b[0m\u001b[0;34m)\u001b[0m\u001b[0;34m\u001b[0m\u001b[0;34m\u001b[0m\u001b[0m\n\u001b[0m\u001b[1;32m      4\u001b[0m \u001b[0;34m\u001b[0m\u001b[0m\n\u001b[1;32m      5\u001b[0m \u001b[0max\u001b[0m \u001b[0;34m=\u001b[0m \u001b[0mplt\u001b[0m\u001b[0;34m.\u001b[0m\u001b[0maxes\u001b[0m\u001b[0;34m(\u001b[0m\u001b[0mprojection\u001b[0m\u001b[0;34m=\u001b[0m\u001b[0mproj\u001b[0m\u001b[0;34m)\u001b[0m\u001b[0;34m\u001b[0m\u001b[0;34m\u001b[0m\u001b[0m\n",
      "\u001b[0;31mNameError\u001b[0m: name 'ccrs' is not defined"
     ]
    },
    {
     "data": {
      "text/plain": [
       "<Figure size 720x720 with 0 Axes>"
      ]
     },
     "metadata": {},
     "output_type": "display_data"
    }
   ],
   "source": [
    "fig = plt.figure(figsize=(10,10))\n",
    "\n",
    "proj = ccrs.Orthographic(-30, -60)\n",
    "\n",
    "ax = plt.axes(projection=proj)    \n",
    "ax.coastlines()\n",
    "ax.stock_img()\n",
    "ax.gridlines()\n",
    "\n",
    "ax.scatter(x = np.degrees(APWP_LatLong[:,1]), y = np.degrees(APWP_LatLong[:,0]),\n",
    "           c = np.array(range(len(APWP_LatLong))), cmap=\"plasma\", \n",
    "           Label = \"Synthetic APWP\", edgecolors='black',\n",
    "           transform=ccrs.PlateCarree())\n",
    "\n",
    "ax.scatter(x = np.degrees(EPs_LatLong[:,1]), y = np.degrees(EPs_LatLong[:,0]),\n",
    "           c = np.array(range(len(APWP_LatLong))), cmap=\"plasma\", \n",
    "           Label = \"Synthetic Euler Poles\", edgecolors='black', marker =\"*\", s = 50,\n",
    "           transform=ccrs.PlateCarree())\n",
    "\n",
    "ax.scatter(x = np.degrees(changepoints_latlong[:,1]), y = np.degrees(changepoints_latlong[:,0]),\n",
    "            \n",
    "           Label = \"Changepoints\", marker =\"*\", s = 50, color = \"white\" ,\n",
    "           transform=ccrs.PlateCarree())\n",
    "\n",
    "handles, labels = ax.get_legend_handles_labels()\n",
    "ax.legend(reversed(handles), reversed(labels))\n",
    "\n",
    "plt.show()"
   ]
  },
  {
   "cell_type": "markdown",
   "id": "e649cf7e",
   "metadata": {},
   "source": [
    "## Computing the adj matrix\n",
    "Takes up to 20 minutes (for 200 PPs)"
   ]
  },
  {
   "cell_type": "code",
   "execution_count": 6,
   "id": "69dd0bc3",
   "metadata": {
    "tags": []
   },
   "outputs": [
    {
     "name": "stdout",
     "output_type": "stream",
     "text": [
      "CPU times: user 2h 57min 2s, sys: 2.55 s, total: 2h 57min 4s\n",
      "Wall time: 4h 59min 18s\n"
     ]
    }
   ],
   "source": [
    "%%time\n",
    "n_min = 3\n",
    "n_max = 150\n",
    "\n",
    "Adj_matrix = np.full((N, N), np.inf)\n",
    "matrix_eps = np.full((N, N), np.inf, dtype=object)\n",
    "\n",
    "for i in range(N):\n",
    "    \n",
    "    for j in range(i + n_min, i + n_max + 1):\n",
    "        \n",
    "        if j >= N:\n",
    "            continue\n",
    "            \n",
    "        # We need to define the loss function from zero since it has the PP inside the function        \n",
    "        X = apwp_df[i:j+1][['PP_x', 'PP_y', 'PP_z']].to_numpy()\n",
    "                        \n",
    "        # If the first and last point are too close in relation to the other points of the segments, this indicates\n",
    "        # the presence two different EPs with overlapping segments moving in opposite directions\n",
    "        pp_i, pp_f = X[0], X[-1]\n",
    "        # do this with geodesic distance! \n",
    "        \n",
    "        path_distance = GCD_cartesian(pp_i, pp_f)\n",
    "        max_dist = np.max([GCD_cartesian(X[k], X[m]) for m in range(X.shape[0]) for k in range(m+1,X.shape[0])])\n",
    "        if path_distance < 0.8 * max_dist:\n",
    "            continue\n",
    "             \n",
    "        def loss (v):\n",
    "            theta, phi, varphi = v[0], v[1], v[2]                   \n",
    "            res = 0\n",
    "            pole = spherical2cartesian([theta, phi])\n",
    "            for k in range(X.shape[0]):\n",
    "                res += ( np.arccos( np.dot( X[k,:], pole)) - varphi ) ** 2        \n",
    "            return res\n",
    "        \n",
    "        \n",
    "        initialGuess = [np.random.uniform(-np.pi/2, np.pi/2), np.random.uniform(0, 2 * np.pi), np.random.uniform(-np.pi/2, np.pi / 2)] #set up random initial guess        \n",
    "        best = np.inf        \n",
    "        for _ in range(1): #number of iterations\n",
    "            \n",
    "            optimum_tmp = minimize(loss, x0 = np.array(initialGuess), method = \"CG\", options = {'gtol': 1E-10})\n",
    "            \n",
    "            initialGuess = [np.random.uniform(-np.pi/2, np.pi/2), np.random.uniform(0, 2 * np.pi), np.random.uniform(-np.pi/2, np.pi / 2)]           \n",
    "            \n",
    "            if optimum_tmp.fun < best: \n",
    "                optimum = optimum_tmp\n",
    "                best = optimum_tmp.fun\n",
    "                #initialGuess = [optimum_tmp.x[0], optimum_tmp.x[1], optimum_tmp.x[2]]\n",
    "                \n",
    "        Adj_matrix[i,j] = optimum.fun\n",
    "        matrix_eps[i,j] = spherical2cartesian([optimum.x[0], optimum.x[1]])"
   ]
  },
  {
   "cell_type": "markdown",
   "id": "9de066cf",
   "metadata": {},
   "source": [
    "#### Visualizing the Adjacency matrix "
   ]
  },
  {
   "cell_type": "code",
   "execution_count": 7,
   "id": "bc0f71ad",
   "metadata": {},
   "outputs": [
    {
     "data": {
      "image/png": "[encoded data removed]",
      "text/plain": [
       "<Figure size 842.4x595.44 with 2 Axes>"
      ]
     },
     "metadata": {},
     "output_type": "display_data"
    }
   ],
   "source": [
    "from matplotlib.colors import LogNorm\n",
    "Adj_matrix_df = pd.DataFrame(Adj_matrix.transpose())\n",
    "# Adj_matrix_df.to_csv('Adj_matrix.csv')\n",
    "sns.set(rc={'figure.figsize':(11.7,8.27)})\n",
    "# Default heatmap\n",
    "sns.heatmap(Adj_matrix_df, vmin=0, vmax=0.005, cmap=\"YlGnBu\", robust=True).invert_yaxis()"
   ]
  },
  {
   "cell_type": "markdown",
   "id": "cede8262",
   "metadata": {},
   "source": [
    "#### We then proceed to calculate the APWP changepoints from the shortest path"
   ]
  },
  {
   "cell_type": "code",
   "execution_count": 8,
   "id": "fe9926a2",
   "metadata": {},
   "outputs": [],
   "source": [
    "def get_changepoints(Adj_matrix, reg = 0.0001):\n",
    "    '''\n",
    "    Given the Adjacency matrix and the regularization parameter, returns a list with changepoints along with the distance matrix\n",
    "    '''    \n",
    "    \n",
    "    dist_matrix, predecesors = shortest_path(Adj_matrix + reg, \n",
    "                                             return_predecessors = True)\n",
    "    \n",
    "    res = []\n",
    "    x = predecesors[0, -1]\n",
    "    \n",
    "    while x != 0:\n",
    "        \n",
    "        res.append(x)\n",
    "        x = predecesors[0, x]\n",
    "        \n",
    "    return list(reversed(res)), dist_matrix "
   ]
  },
  {
   "cell_type": "markdown",
   "id": "ab041e15",
   "metadata": {},
   "source": [
    "#### Visualizing the total cost as a function of the regularization paramenter in order to achieve an unsupervised estimation"
   ]
  },
  {
   "cell_type": "code",
   "execution_count": 9,
   "id": "242b3109",
   "metadata": {},
   "outputs": [],
   "source": [
    "all_lamb_log = np.linspace(-6, 0, 1000)\n",
    "all_lamb = 10 ** all_lamb_log\n",
    "\n",
    "all_cost, all_nsegments = [], []\n",
    "\n",
    "for lamb in all_lamb:    \n",
    "    \n",
    "    changepoints, dist_matrix = get_changepoints(Adj_matrix, reg=lamb)\n",
    "    \n",
    "    loss_reg = lamb * len(changepoints)\n",
    "    loss = dist_matrix[0,-1]\n",
    "    loss1 = loss - loss_reg\n",
    "    \n",
    "    all_nsegments.append(len(changepoints))\n",
    "    all_cost.append(loss)"
   ]
  },
  {
   "cell_type": "code",
   "execution_count": 16,
   "id": "3a9f0357",
   "metadata": {},
   "outputs": [
    {
     "data": {
      "image/png": "[encoded data removed]",
      "text/plain": [
       "<Figure size 842.4x595.44 with 2 Axes>"
      ]
     },
     "metadata": {},
     "output_type": "display_data"
    }
   ],
   "source": [
    "from matplotlib.colors import LogNorm\n",
    "\n",
    "fig = plt.figure()\n",
    "ax = fig.add_subplot(1, 1, 1)\n",
    "plt.scatter(all_nsegments,all_cost,c=all_lamb, norm=LogNorm())\n",
    "plt.ylabel('$Total Cost$', size = 12)\n",
    "plt.xlabel('$m$ (number of segments)', size = 12)\n",
    "#plt.ylim(0,.001)\n",
    "plt.yscale('log')\n",
    "plt.colorbar(label = '$\\lambda$')\n",
    "plt.savefig('elbow.pdf', dpi =600)\n",
    "plt.show()\n"
   ]
  },
  {
   "cell_type": "code",
   "execution_count": 237,
   "id": "e604865b",
   "metadata": {},
   "outputs": [
    {
     "data": {
      "text/plain": [
       "([19, 41, 56, 81, 103, 120, 139, 157, 181, 214], 0.0002782559402207126)"
      ]
     },
     "execution_count": 237,
     "metadata": {},
     "output_type": "execute_result"
    }
   ],
   "source": [
    "# now, we pick the value of lambda for which we observe the elbow in the plot\n",
    "lamb_opt = all_lamb[np.max(np.where(np.array(all_nsegments) == 11))]\n",
    "\n",
    "changepoints, dist_matrix = get_changepoints(Adj_matrix, reg=0.001)\n",
    "changepoints, lamb_opt"
   ]
  },
  {
   "cell_type": "code",
   "execution_count": 238,
   "id": "d65f3671",
   "metadata": {},
   "outputs": [
    {
     "data": {
      "text/html": [
       "<div>\n",
       "<style scoped>\n",
       "    .dataframe tbody tr th:only-of-type {\n",
       "        vertical-align: middle;\n",
       "    }\n",
       "\n",
       "    .dataframe tbody tr th {\n",
       "        vertical-align: top;\n",
       "    }\n",
       "\n",
       "    .dataframe thead th {\n",
       "        text-align: right;\n",
       "    }\n",
       "</style>\n",
       "<table border=\"1\" class=\"dataframe\">\n",
       "  <thead>\n",
       "    <tr style=\"text-align: right;\">\n",
       "      <th></th>\n",
       "      <th>i</th>\n",
       "      <th>PP_x</th>\n",
       "      <th>PP_y</th>\n",
       "      <th>PP_z</th>\n",
       "      <th>changepoint</th>\n",
       "      <th>EP_x</th>\n",
       "      <th>EP_y</th>\n",
       "      <th>EP_z</th>\n",
       "      <th>omega</th>\n",
       "    </tr>\n",
       "  </thead>\n",
       "  <tbody>\n",
       "    <tr>\n",
       "      <th>0</th>\n",
       "      <td>0</td>\n",
       "      <td>0.028732</td>\n",
       "      <td>0.025296</td>\n",
       "      <td>-0.999267</td>\n",
       "      <td>True</td>\n",
       "      <td>0.609333</td>\n",
       "      <td>-0.677967</td>\n",
       "      <td>-0.411186</td>\n",
       "      <td>0.043540</td>\n",
       "    </tr>\n",
       "    <tr>\n",
       "      <th>20</th>\n",
       "      <td>20</td>\n",
       "      <td>0.599496</td>\n",
       "      <td>0.375945</td>\n",
       "      <td>-0.706591</td>\n",
       "      <td>True</td>\n",
       "      <td>-0.097513</td>\n",
       "      <td>0.001644</td>\n",
       "      <td>0.995233</td>\n",
       "      <td>0.017490</td>\n",
       "    </tr>\n",
       "    <tr>\n",
       "      <th>41</th>\n",
       "      <td>41</td>\n",
       "      <td>0.452617</td>\n",
       "      <td>0.527300</td>\n",
       "      <td>-0.719091</td>\n",
       "      <td>True</td>\n",
       "      <td>0.091365</td>\n",
       "      <td>-0.005971</td>\n",
       "      <td>-0.995800</td>\n",
       "      <td>0.026079</td>\n",
       "    </tr>\n",
       "    <tr>\n",
       "      <th>57</th>\n",
       "      <td>57</td>\n",
       "      <td>0.614643</td>\n",
       "      <td>0.345622</td>\n",
       "      <td>-0.709055</td>\n",
       "      <td>True</td>\n",
       "      <td>0.714524</td>\n",
       "      <td>0.487911</td>\n",
       "      <td>-0.501397</td>\n",
       "      <td>0.041550</td>\n",
       "    </tr>\n",
       "    <tr>\n",
       "      <th>82</th>\n",
       "      <td>82</td>\n",
       "      <td>0.494232</td>\n",
       "      <td>0.582117</td>\n",
       "      <td>-0.645658</td>\n",
       "      <td>True</td>\n",
       "      <td>0.660896</td>\n",
       "      <td>0.007485</td>\n",
       "      <td>0.750440</td>\n",
       "      <td>0.014661</td>\n",
       "    </tr>\n",
       "    <tr>\n",
       "      <th>104</th>\n",
       "      <td>104</td>\n",
       "      <td>0.330947</td>\n",
       "      <td>0.811354</td>\n",
       "      <td>-0.481849</td>\n",
       "      <td>True</td>\n",
       "      <td>0.987436</td>\n",
       "      <td>0.062666</td>\n",
       "      <td>0.145060</td>\n",
       "      <td>0.018438</td>\n",
       "    </tr>\n",
       "    <tr>\n",
       "      <th>121</th>\n",
       "      <td>121</td>\n",
       "      <td>0.302343</td>\n",
       "      <td>0.920533</td>\n",
       "      <td>-0.247402</td>\n",
       "      <td>True</td>\n",
       "      <td>-0.628876</td>\n",
       "      <td>0.395808</td>\n",
       "      <td>-0.669217</td>\n",
       "      <td>0.024262</td>\n",
       "    </tr>\n",
       "    <tr>\n",
       "      <th>140</th>\n",
       "      <td>140</td>\n",
       "      <td>0.467243</td>\n",
       "      <td>0.692157</td>\n",
       "      <td>-0.550094</td>\n",
       "      <td>True</td>\n",
       "      <td>-0.890780</td>\n",
       "      <td>0.446754</td>\n",
       "      <td>0.083202</td>\n",
       "      <td>0.019422</td>\n",
       "    </tr>\n",
       "    <tr>\n",
       "      <th>158</th>\n",
       "      <td>158</td>\n",
       "      <td>0.358727</td>\n",
       "      <td>0.489982</td>\n",
       "      <td>-0.794501</td>\n",
       "      <td>True</td>\n",
       "      <td>-0.784631</td>\n",
       "      <td>-0.598256</td>\n",
       "      <td>0.162613</td>\n",
       "      <td>0.026325</td>\n",
       "    </tr>\n",
       "    <tr>\n",
       "      <th>182</th>\n",
       "      <td>182</td>\n",
       "      <td>0.611814</td>\n",
       "      <td>0.189604</td>\n",
       "      <td>-0.767941</td>\n",
       "      <td>True</td>\n",
       "      <td>0.495520</td>\n",
       "      <td>-0.060498</td>\n",
       "      <td>0.866487</td>\n",
       "      <td>0.042079</td>\n",
       "    </tr>\n",
       "    <tr>\n",
       "      <th>202</th>\n",
       "      <td>202</td>\n",
       "      <td>0.297917</td>\n",
       "      <td>0.784988</td>\n",
       "      <td>-0.543176</td>\n",
       "      <td>True</td>\n",
       "      <td>-0.530240</td>\n",
       "      <td>-0.787753</td>\n",
       "      <td>0.313515</td>\n",
       "      <td>0.033247</td>\n",
       "    </tr>\n",
       "    <tr>\n",
       "      <th>225</th>\n",
       "      <td>225</td>\n",
       "      <td>0.471398</td>\n",
       "      <td>0.642855</td>\n",
       "      <td>-0.603756</td>\n",
       "      <td>True</td>\n",
       "      <td>-0.560726</td>\n",
       "      <td>-0.764781</td>\n",
       "      <td>0.317326</td>\n",
       "      <td>0.012046</td>\n",
       "    </tr>\n",
       "    <tr>\n",
       "      <th>246</th>\n",
       "      <td>246</td>\n",
       "      <td>0.548809</td>\n",
       "      <td>0.601712</td>\n",
       "      <td>-0.580303</td>\n",
       "      <td>True</td>\n",
       "      <td>0.557636</td>\n",
       "      <td>0.287065</td>\n",
       "      <td>-0.778868</td>\n",
       "      <td>0.041441</td>\n",
       "    </tr>\n",
       "  </tbody>\n",
       "</table>\n",
       "</div>"
      ],
      "text/plain": [
       "       i      PP_x      PP_y      PP_z  changepoint      EP_x      EP_y  \\\n",
       "0      0  0.028732  0.025296 -0.999267         True  0.609333 -0.677967   \n",
       "20    20  0.599496  0.375945 -0.706591         True -0.097513  0.001644   \n",
       "41    41  0.452617  0.527300 -0.719091         True  0.091365 -0.005971   \n",
       "57    57  0.614643  0.345622 -0.709055         True  0.714524  0.487911   \n",
       "82    82  0.494232  0.582117 -0.645658         True  0.660896  0.007485   \n",
       "104  104  0.330947  0.811354 -0.481849         True  0.987436  0.062666   \n",
       "121  121  0.302343  0.920533 -0.247402         True -0.628876  0.395808   \n",
       "140  140  0.467243  0.692157 -0.550094         True -0.890780  0.446754   \n",
       "158  158  0.358727  0.489982 -0.794501         True -0.784631 -0.598256   \n",
       "182  182  0.611814  0.189604 -0.767941         True  0.495520 -0.060498   \n",
       "202  202  0.297917  0.784988 -0.543176         True -0.530240 -0.787753   \n",
       "225  225  0.471398  0.642855 -0.603756         True -0.560726 -0.764781   \n",
       "246  246  0.548809  0.601712 -0.580303         True  0.557636  0.287065   \n",
       "\n",
       "         EP_z     omega  \n",
       "0   -0.411186  0.043540  \n",
       "20   0.995233  0.017490  \n",
       "41  -0.995800  0.026079  \n",
       "57  -0.501397  0.041550  \n",
       "82   0.750440  0.014661  \n",
       "104  0.145060  0.018438  \n",
       "121 -0.669217  0.024262  \n",
       "140  0.083202  0.019422  \n",
       "158  0.162613  0.026325  \n",
       "182  0.866487  0.042079  \n",
       "202  0.313515  0.033247  \n",
       "225  0.317326  0.012046  \n",
       "246 -0.778868  0.041441  "
      ]
     },
     "execution_count": 238,
     "metadata": {},
     "output_type": "execute_result"
    }
   ],
   "source": [
    "apwp_df[apwp_df['changepoint'] == True]"
   ]
  },
  {
   "cell_type": "markdown",
   "id": "fd185ddd",
   "metadata": {},
   "source": [
    "#### Function that generates a DataFrame in which we put the inversion parameters"
   ]
  },
  {
   "cell_type": "code",
   "execution_count": 239,
   "id": "1eb06ff5",
   "metadata": {},
   "outputs": [],
   "source": [
    "def EPdf(APWP, matrix_eps, changepoints):\n",
    "    '''Creates a DataFrame with the inverted EPs\n",
    "    input: APWP is a list of cartesian coordinates, \n",
    "    matrix_eps is the matrix with the inverted Euler Poles (matrix_eps[i:j] is the\n",
    "    inverted EP for the segment ti - tj).\n",
    "    \n",
    "    output: Dataframe with cartesian coordinates of the inverted euler poles for each 1-Myr step'''\n",
    "    EPs = []\n",
    "    omegas = []\n",
    "    tmp = 0\n",
    "    \n",
    "    for i in range(len(matrix_eps)):                          \n",
    "        \n",
    "        if i <= changepoints[0]:\n",
    "            #print(i,[0, changepoints[tmp]])\n",
    "            EP = matrix_eps[0, changepoints[tmp]]\n",
    "            omega = StageEP(EP, APWP[0:changepoints[tmp]]) / len(APWP[0:changepoints[tmp]])\n",
    "        elif i >= changepoints[-1]:\n",
    "            #print(i,[changepoints[-1], len(matrix_eps)-1])\n",
    "            EP = matrix_eps[changepoints[-1], len(matrix_eps)-1]\n",
    "            omega = StageEP(EP, APWP[changepoints[-1]: len(matrix_eps)-1]) / len(APWP[changepoints[-1]: len(matrix_eps)-1])\n",
    "        else:\n",
    "            #print(i,[changepoints[tmp], changepoints[tmp+1]])\n",
    "            EP = matrix_eps[changepoints[tmp], changepoints[tmp+1]]\n",
    "            omega = StageEP(EP, APWP[changepoints[tmp]: changepoints[tmp+1]]) / len(APWP[changepoints[tmp]: changepoints[tmp+1]])\n",
    "            if (i) > (changepoints[tmp + 1]-1): tmp += 1 \n",
    "                \n",
    "        EPs.append(EP)\n",
    "        omegas.append(omega)\n",
    "    \n",
    "    EPs = np.array(EPs)\n",
    "    omegas = np.array(omegas)\n",
    "    \n",
    "    dictionary = { 'EP_x_inv': EPs[:,0],\n",
    "                   'EP_y_inv': EPs[:,1],\n",
    "                   'EP_z_inv': EPs[:,2],\n",
    "                   'omega_inv': omegas,\n",
    "                  }\n",
    "    \n",
    "    df = pd.DataFrame(dictionary)            \n",
    "       \n",
    "    return df                                                         "
   ]
  },
  {
   "cell_type": "markdown",
   "id": "fb13a9f7",
   "metadata": {},
   "source": [
    "### Creating the DataFrame for the inversion"
   ]
  },
  {
   "cell_type": "code",
   "execution_count": 240,
   "id": "98d1608e",
   "metadata": {},
   "outputs": [],
   "source": [
    "apwp_complete = apwp_df\n",
    "EP_inversion = EPdf(APWP, matrix_eps, changepoints)\n",
    "apwp_complete = apwp_complete.join(EP_inversion)"
   ]
  },
  {
   "cell_type": "markdown",
   "id": "61105523",
   "metadata": {},
   "source": [
    "#### Function that measures the discrepancy of points at a given latitude, after rotating with the whole sequence of inverted poles"
   ]
  },
  {
   "cell_type": "code",
   "execution_count": 241,
   "id": "64e55146",
   "metadata": {},
   "outputs": [],
   "source": [
    "def points_misfit(apwp_complete, lat):\n",
    "    \n",
    "    GCD_list = []\n",
    "    for _,i in apwp_complete.iterrows():\n",
    "        \n",
    "        if _ == 0: point, point_inv = spherical2cartesian([lat, 0]), spherical2cartesian([lat, 0])\n",
    "              \n",
    "        r = rotation.from_rotvec(i.omega * np.array([i.EP_x, i.EP_y, i.EP_z]))\n",
    "        r_inv = rotation.from_rotvec(i.omega_inv * np.array([i.EP_x_inv, i.EP_y_inv, i.EP_z_inv]))\n",
    "\n",
    "        point = r.apply(np.array(point))\n",
    "        point_inv = r_inv.apply(np.array(point_inv))\n",
    "        \n",
    "        GCD_list.append(GCD_cartesian(point, point_inv))\n",
    "    \n",
    "    apwp_complete['Point' + str(np.round(np.degrees(lat),0).astype(int))] = GCD_list\n",
    "    \n",
    "    return apwp_complete"
   ]
  },
  {
   "cell_type": "code",
   "execution_count": 242,
   "id": "fd0681af-b9da-41d7-a4e0-9d31aa6ab916",
   "metadata": {},
   "outputs": [],
   "source": [
    "GCD_list = []\n",
    "\n",
    "for _,i in apwp_complete.iterrows():\n",
    "\n",
    "    if _ == 0: point, point_inv = spherical2cartesian([lat, 0]), spherical2cartesian([lat, 0])\n",
    "\n",
    "    r = rotation.from_rotvec(i.omega * np.array([i.EP_x, i.EP_y, i.EP_z]))\n",
    "    r_inv = rotation.from_rotvec(i.omega_inv * np.array([i.EP_x_inv, i.EP_y_inv, i.EP_z_inv]))\n",
    "\n",
    "    point = r.apply(np.array(point))\n",
    "    point_inv = r_inv.apply(np.array(point_inv))\n",
    "\n",
    "    GCD_list.append(GCD_cartesian(point, point_inv))"
   ]
  },
  {
   "cell_type": "markdown",
   "id": "50f3687b",
   "metadata": {},
   "source": [
    "### Misfit between an APWP and the one we obtained from the inversion of EPs"
   ]
  },
  {
   "cell_type": "code",
   "execution_count": 243,
   "id": "db8a5276",
   "metadata": {},
   "outputs": [],
   "source": [
    "def apwp_misfit(apwp_complete):\n",
    "    \n",
    "    PP_x, PP_y, PP_z = [], [], []\n",
    "\n",
    "    for _,i in apwp_complete.iterrows():\n",
    "\n",
    "        if _ == 0: pp = [0,0,-1]  \n",
    "\n",
    "        r = rotation.from_rotvec(i.omega_inv * np.array([i.EP_x_inv, i.EP_y_inv, i.EP_z_inv]))  \n",
    "        pp = r.apply(np.array(pp))   \n",
    "        pp_x, pp_y, pp_z = pp[0], pp[1], pp[2]    \n",
    "        PP_x.append(pp_x) \n",
    "        PP_y.append(pp_y) \n",
    "        PP_z.append(pp_z) \n",
    "\n",
    "    apwp_complete['PP_x_inv'] = PP_x    \n",
    "    apwp_complete['PP_y_inv'] = PP_y   \n",
    "    apwp_complete['PP_z_inv'] = PP_z   \n",
    "    apwp_complete['PPs_Misfit'] = [GCD_cartesian([i.PP_x, i.PP_y, i.PP_z],[i.PP_x_inv, i.PP_y_inv, i.PP_z_inv]) for _,i in apwp_complete.iterrows()]\n",
    "    \n",
    "    return apwp_complete"
   ]
  },
  {
   "cell_type": "markdown",
   "id": "a6526515",
   "metadata": {},
   "source": [
    "### Calculates the total reconstruction pole for each time (known)"
   ]
  },
  {
   "cell_type": "code",
   "execution_count": 244,
   "id": "2fb3192c",
   "metadata": {},
   "outputs": [],
   "source": [
    "def total_rotation_poles(apwp_complete):\n",
    "    \n",
    "    TR_x, TR_y, TR_z, TR_omega = [], [], [], []\n",
    "    TR_x_inv, TR_y_inv, TR_z_inv, TR_omega_inv = [], [], [], []\n",
    "        \n",
    "    for _,i in apwp_complete.iterrows():   \n",
    "        if _ == 0: \n",
    "            ep = rotation.from_rotvec(i.omega * np.array([i.EP_x, i.EP_y, i.EP_z]))                    \n",
    "            TR_omega.append(ep.magnitude())\n",
    "            TR_x.append((ep.as_rotvec() / np.linalg.norm(ep.as_rotvec()))[0])\n",
    "            TR_y.append((ep.as_rotvec() / np.linalg.norm(ep.as_rotvec()))[1])\n",
    "            TR_z.append((ep.as_rotvec() / np.linalg.norm(ep.as_rotvec()))[2])\n",
    "        else:\n",
    "            ep_tmp = rotation.from_rotvec(i.omega * np.array([i.EP_x, i.EP_y, i.EP_z]))\n",
    "            ep = rotation.from_matrix(np.dot(ep_tmp.as_matrix(), ep.as_matrix()))\n",
    "            TR_omega.append(ep.magnitude())  \n",
    "            TR_x.append((ep.as_rotvec() / np.linalg.norm(ep.as_rotvec()))[0])\n",
    "            TR_y.append((ep.as_rotvec() / np.linalg.norm(ep.as_rotvec()))[1])\n",
    "            TR_z.append((ep.as_rotvec() / np.linalg.norm(ep.as_rotvec()))[2])\n",
    "            \n",
    "    apwp_complete['TR_x'] = TR_x\n",
    "    apwp_complete['TR_y'] = TR_y\n",
    "    apwp_complete['TR_z'] = TR_z\n",
    "    apwp_complete['TR_omega'] = TR_omega\n",
    "    \n",
    "    return apwp_complete"
   ]
  },
  {
   "cell_type": "code",
   "execution_count": 245,
   "id": "ca75932e",
   "metadata": {},
   "outputs": [],
   "source": [
    "def total_rotation_poles_inv(apwp_complete):\n",
    "        \n",
    "    TR_x_inv, TR_y_inv, TR_z_inv, TR_omega_inv = [], [], [], []\n",
    "        \n",
    "    for _,i in apwp_complete.iterrows():   \n",
    "        if _ == 0: \n",
    "            ep = rotation.from_rotvec(i.omega_inv * np.array([i.EP_x_inv, i.EP_y_inv, i.EP_z_inv]))                    \n",
    "            TR_omega_inv.append(ep.magnitude())\n",
    "            TR_x_inv.append((ep.as_rotvec() / np.linalg.norm(ep.as_rotvec()))[0])\n",
    "            TR_y_inv.append((ep.as_rotvec() / np.linalg.norm(ep.as_rotvec()))[1])\n",
    "            TR_z_inv.append((ep.as_rotvec() / np.linalg.norm(ep.as_rotvec()))[2])\n",
    "        else:\n",
    "            ep_tmp = rotation.from_rotvec(i.omega_inv * np.array([i.EP_x_inv, i.EP_y_inv, i.EP_z_inv]))\n",
    "            ep = rotation.from_matrix(np.dot(ep_tmp.as_matrix(),ep.as_matrix()))\n",
    "            TR_omega_inv.append(ep.magnitude())\n",
    "            TR_x_inv.append((ep.as_rotvec() / np.linalg.norm(ep.as_rotvec()))[0])\n",
    "            TR_y_inv.append((ep.as_rotvec() / np.linalg.norm(ep.as_rotvec()))[1])\n",
    "            TR_z_inv.append((ep.as_rotvec() / np.linalg.norm(ep.as_rotvec()))[2])\n",
    "            \n",
    "    apwp_complete['TR_x_inv'] = TR_x_inv\n",
    "    apwp_complete['TR_y_inv'] = TR_y_inv\n",
    "    apwp_complete['TR_z_inv'] = TR_z_inv\n",
    "    apwp_complete['TR_omega_inv'] = TR_omega_inv\n",
    "    \n",
    "    return apwp_complete"
   ]
  },
  {
   "cell_type": "markdown",
   "id": "0bbdad66",
   "metadata": {
    "tags": []
   },
   "source": [
    "#### Comparison of true kinematics with those inferred from the proposed methodoly. \n",
    "- Euler-pole misfit represents the geodesic distance between Euler poles associated with true and inferred stage Euler vectors.\n",
    "- angular-velocity misfit if the difference between angular velocities of true and inferred stage Euler vectors"
   ]
  },
  {
   "cell_type": "code",
   "execution_count": 246,
   "id": "70df81a0",
   "metadata": {},
   "outputs": [],
   "source": [
    "apwp_complete['EP_Misfit'] = [GCD_cartesian([i.EP_x_inv, i.EP_y_inv, i.EP_z_inv],[i.EP_x, i.EP_y, i.EP_z]) for _,i in apwp_complete.iterrows()]\n",
    "apwp_complete['AngVel_Misfit'] = [(np.abs(i.omega) - np.abs(i.omega_inv)) for _,i in apwp_complete.iterrows()]\n",
    "apwp_complete['EP_Misfit_corr'] = [(np.pi - i.EP_Misfit) if i.EP_Misfit > (np.pi / 2) else i.EP_Misfit for _,i in apwp_complete.iterrows()]\n",
    "#apwp_complete[25:40]"
   ]
  },
  {
   "cell_type": "code",
   "execution_count": 247,
   "id": "b97ac0b2",
   "metadata": {},
   "outputs": [],
   "source": [
    "lats = [0,20,40,60,80]\n",
    "\n",
    "for i in np.radians(lats):\n",
    "    apwp_complete = points_misfit(apwp_complete, i)"
   ]
  },
  {
   "cell_type": "code",
   "execution_count": 248,
   "id": "8310c52d",
   "metadata": {},
   "outputs": [],
   "source": [
    "apwp_complete = apwp_misfit(apwp_complete)"
   ]
  },
  {
   "cell_type": "code",
   "execution_count": 249,
   "id": "e9664cca",
   "metadata": {},
   "outputs": [],
   "source": [
    "apwp_complete = total_rotation_poles(apwp_complete)\n",
    "apwp_complete = total_rotation_poles_inv(apwp_complete)"
   ]
  },
  {
   "cell_type": "code",
   "execution_count": 250,
   "id": "a305c011",
   "metadata": {},
   "outputs": [],
   "source": [
    "apwp_complete['TR_Misfit'] = [GCD_cartesian([i.TR_x_inv, i.TR_y_inv, i.TR_z_inv],[i.TR_x, i.TR_y, i.TR_z]) for _,i in apwp_complete.iterrows()]\n",
    "apwp_complete['TR_Ang_Misfit'] = [(i.TR_omega - i.TR_omega_inv) for _,i in apwp_complete.iterrows()]"
   ]
  },
  {
   "cell_type": "code",
   "execution_count": 251,
   "id": "58185e3a",
   "metadata": {},
   "outputs": [
    {
     "data": {
      "text/plain": [
       "Index(['i', 'PP_x', 'PP_y', 'PP_z', 'changepoint', 'EP_x', 'EP_y', 'EP_z',\n",
       "       'omega', 'EP_x_inv', 'EP_y_inv', 'EP_z_inv', 'omega_inv', 'EP_Misfit',\n",
       "       'AngVel_Misfit', 'EP_Misfit_corr', 'Point0', 'Point20', 'Point40',\n",
       "       'Point60', 'Point80', 'PP_x_inv', 'PP_y_inv', 'PP_z_inv', 'PPs_Misfit',\n",
       "       'TR_x', 'TR_y', 'TR_z', 'TR_omega', 'TR_x_inv', 'TR_y_inv', 'TR_z_inv',\n",
       "       'TR_omega_inv', 'TR_Misfit', 'TR_Ang_Misfit'],\n",
       "      dtype='object')"
      ]
     },
     "execution_count": 251,
     "metadata": {},
     "output_type": "execute_result"
    }
   ],
   "source": [
    "apwp_complete.columns"
   ]
  },
  {
   "cell_type": "markdown",
   "id": "c419c320",
   "metadata": {
    "tags": []
   },
   "source": [
    "### Statistics for the comparison of true kinematics with those inferred"
   ]
  },
  {
   "cell_type": "markdown",
   "id": "9c06907c",
   "metadata": {
    "tags": []
   },
   "source": [
    "First, we plot the geodetic distantce between the known and the inferred EP position"
   ]
  },
  {
   "cell_type": "code",
   "execution_count": 252,
   "id": "2a5328f5",
   "metadata": {},
   "outputs": [
    {
     "data": {
      "text/plain": [
       "<AxesSubplot:ylabel='EP_Misfit_corr'>"
      ]
     },
     "execution_count": 252,
     "metadata": {},
     "output_type": "execute_result"
    },
    {
     "data": {
      "image/png": "[encoded data removed]",
      "text/plain": [
       "<Figure size 842.4x595.44 with 1 Axes>"
      ]
     },
     "metadata": {},
     "output_type": "display_data"
    }
   ],
   "source": [
    "sns.lineplot( x = apwp_complete.index, y = apwp_complete['EP_Misfit_corr'] * 180 / np.pi)"
   ]
  },
  {
   "cell_type": "code",
   "execution_count": 160,
   "id": "f05a2917",
   "metadata": {},
   "outputs": [
    {
     "data": {
      "text/plain": [
       "<AxesSubplot:ylabel='PPs_Misfit'>"
      ]
     },
     "execution_count": 160,
     "metadata": {},
     "output_type": "execute_result"
    },
    {
     "data": {
      "image/png": "[encoded data removed]",
      "text/plain": [
       "<Figure size 842.4x595.44 with 1 Axes>"
      ]
     },
     "metadata": {},
     "output_type": "display_data"
    }
   ],
   "source": [
    "sns.lineplot( x =  apwp_complete.index, y = apwp_complete['PPs_Misfit'] * 180 / np.pi)"
   ]
  },
  {
   "cell_type": "code",
   "execution_count": 179,
   "id": "f82f1df0",
   "metadata": {},
   "outputs": [
    {
     "data": {
      "text/plain": [
       "<AxesSubplot:ylabel='Point0'>"
      ]
     },
     "execution_count": 179,
     "metadata": {},
     "output_type": "execute_result"
    },
    {
     "data": {
      "image/png": "[encoded data removed]",
      "text/plain": [
       "<Figure size 842.4x595.44 with 1 Axes>"
      ]
     },
     "metadata": {},
     "output_type": "display_data"
    }
   ],
   "source": [
    "sns.lineplot( x =  apwp_complete.index, y = apwp_complete['Point0'] * 180 / np.pi)\n",
    "sns.lineplot( x =  apwp_complete.index, y = apwp_complete['Point20'] * 180 / np.pi)\n",
    "sns.lineplot( x =  apwp_complete.index, y = apwp_complete['Point40'] * 180 / np.pi)\n",
    "sns.lineplot( x =  apwp_complete.index, y = apwp_complete['Point60'] * 180 / np.pi)"
   ]
  },
  {
   "cell_type": "code",
   "execution_count": 162,
   "id": "222b5e8a",
   "metadata": {},
   "outputs": [
    {
     "data": {
      "text/plain": [
       "<AxesSubplot:ylabel='TR_Misfit'>"
      ]
     },
     "execution_count": 162,
     "metadata": {},
     "output_type": "execute_result"
    },
    {
     "data": {
      "image/png": "[encoded data removed]",
      "text/plain": [
       "<Figure size 842.4x595.44 with 1 Axes>"
      ]
     },
     "metadata": {},
     "output_type": "display_data"
    }
   ],
   "source": [
    "#sns.lineplot( x =  apwp_complete.index, y = apwp_complete['TR_Misfit'] * 180 / np.pi)\n",
    "sns.lineplot( x =  apwp_complete.index, y = apwp_complete['TR_Misfit'] * 180 / np.pi)\n",
    "sns.lineplot( x =  apwp_complete.index, y = apwp_complete['TR_Ang_Misfit'] * 180 / np.pi)"
   ]
  },
  {
   "cell_type": "markdown",
   "id": "d61cd71e",
   "metadata": {},
   "source": [
    "#### Geodetic distance between the total reconstruction "
   ]
  },
  {
   "cell_type": "code",
   "execution_count": 39,
   "id": "a37415a9",
   "metadata": {},
   "outputs": [
    {
     "data": {
      "text/plain": [
       "5.457124454084523"
      ]
     },
     "execution_count": 39,
     "metadata": {},
     "output_type": "execute_result"
    }
   ],
   "source": [
    "ind = 100\n",
    "tr200 = rotation.from_rotvec(apwp_complete.iloc[ind].TR_omega * np.array([apwp_complete.iloc[ind].TR_x, apwp_complete.iloc[ind].TR_y, apwp_complete.iloc[ind].TR_z]))\n",
    "tr200.apply(np.array([0,0,-1]))\n",
    "\n",
    "GCD_cartesian([apwp_complete.iloc[ind].TR_x, apwp_complete.iloc[ind].TR_y, apwp_complete.iloc[ind].TR_z],[apwp_complete.iloc[ind].TR_x_inv, apwp_complete.iloc[ind].TR_y_inv, apwp_complete.iloc[ind].TR_z_inv])*180/np.pi"
   ]
  },
  {
   "cell_type": "code",
   "execution_count": null,
   "id": "c7077c2c",
   "metadata": {},
   "outputs": [],
   "source": []
  }
 ],
 "metadata": {
  "kernelspec": {
   "display_name": "Python 3",
   "language": "python",
   "name": "python3"
  },
  "language_info": {
   "codemirror_mode": {
    "name": "ipython",
    "version": 3
   },
   "file_extension": ".py",
   "mimetype": "text/x-python",
   "name": "python",
   "nbconvert_exporter": "python",
   "pygments_lexer": "ipython3",
   "version": "3.6.8"
  }
 },
 "nbformat": 4,
 "nbformat_minor": 5
}
